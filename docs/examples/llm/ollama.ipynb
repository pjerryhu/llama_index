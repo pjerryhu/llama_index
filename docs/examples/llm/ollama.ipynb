{
 "cells": [
  {
   "attachments": {},
   "cell_type": "markdown",
   "id": "2e33dced-e587-4397-81b3-d6606aa1738a",
   "metadata": {},
   "source": [
    "# Ollama - Llama 2 7B"
   ]
  },
  {
   "attachments": {},
   "cell_type": "markdown",
   "id": "5863dde9-84a0-4c33-ad52-cc767442f63f",
   "metadata": {},
   "source": [
    "## Setup\n",
    "First, follow the [readme](https://github.com/jmorganca/ollama) to set up and run a local Ollama instance.\n",
    "\n",
    "When the Ollama app is running on your local machine:\n",
    "- All of your local models are automatically served on localhost:11434\n",
    "- Select your model when setting llm = Ollama(..., model=\"<model family>:<version>\")\n",
    "- If you set llm = Ollama(..., model=\"<model family\") without a version it will simply look for latest"
   ]
  },
  {
   "cell_type": "code",
   "execution_count": 1,
   "id": "ad297f19-998f-4485-aa2f-d67020058b7d",
   "metadata": {
    "tags": [],
    "ExecuteTime": {
     "end_time": "2023-09-15T18:39:24.854350Z",
     "start_time": "2023-09-15T18:39:21.965953Z"
    }
   },
   "outputs": [],
   "source": [
    "from llama_index.llms.ollama import Ollama"
   ]
  },
  {
   "cell_type": "code",
   "execution_count": 9,
   "id": "152ced37-9a42-47be-9a39-4218521f5e72",
   "metadata": {
    "tags": [],
    "ExecuteTime": {
     "end_time": "2023-09-15T18:41:26.923888Z",
     "start_time": "2023-09-15T18:41:26.920652Z"
    }
   },
   "outputs": [],
   "source": [
    "llm = Ollama(model=\"llama2\")"
   ]
  },
  {
   "cell_type": "code",
   "execution_count": 10,
   "id": "d61b10bb-e911-47fb-8e84-19828cf224be",
   "metadata": {
    "tags": [],
    "ExecuteTime": {
     "end_time": "2023-09-15T18:41:27.051745Z",
     "start_time": "2023-09-15T18:41:27.048745Z"
    }
   },
   "outputs": [],
   "source": [
    "resp = llm.complete(\"Who is Paul Graham?\")"
   ]
  },
  {
   "cell_type": "code",
   "execution_count": 25,
   "id": "3bd14f4e-c245-4384-a471-97e4ddfcb40e",
   "metadata": {
    "tags": [],
    "ExecuteTime": {
     "end_time": "2023-09-15T18:49:15.588176Z",
     "start_time": "2023-09-15T18:49:15.586018Z"
    }
   },
   "outputs": [],
   "source": [
    "print(resp)"
   ]
  },
  {
   "attachments": {},
   "cell_type": "markdown",
   "id": "3ba9503c-b440-43c6-a50c-676c79993813",
   "metadata": {
    "tags": [],
    "ExecuteTime": {
     "end_time": "2023-09-15T18:50:11.640322Z",
     "start_time": "2023-09-15T18:50:11.258218Z"
    }
   },
   "source": [
    "#### Call `chat` with a list of messages"
   ]
  },
  {
   "cell_type": "code",
   "execution_count": 35,
   "id": "ee8a4a55-5680-4dc6-a44c-fc8ad7892f80",
   "metadata": {
    "tags": [],
    "ExecuteTime": {
     "end_time": "2023-09-15T18:50:17.192492Z",
     "start_time": "2023-09-15T18:50:17.188278Z"
    }
   },
   "outputs": [
    {
     "name": "stdout",
     "output_type": "stream",
     "text": [
      "went, drank, met\n"
     ]
    }
   ],
   "source": [
    "from llama_index.llms import ChatMessage\n",
    "\n",
    "messages = [\n",
    "    ChatMessage(role=\"system\", content=\"You are a pirate with a colorful personality\"),\n",
    "    ChatMessage(role=\"user\", content=\"What is your name\"),\n",
    "]\n",
    "resp = llm.chat(messages)"
   ]
  },
  {
   "cell_type": "code",
   "execution_count": 34,
   "id": "2a9bfe53-d15b-4e75-9d91-8c5d024f4eda",
   "metadata": {
    "tags": [],
    "ExecuteTime": {
     "end_time": "2023-09-15T18:50:12.743769Z",
     "start_time": "2023-09-15T18:50:12.741953Z"
    }
   },
   "outputs": [
    {
     "name": "stdout",
     "output_type": "stream",
     "text": [
      "went, drank, met\n"
     ]
    }
   ],
   "source": [
    "print(resp)"
   ]
  },
  {
   "attachments": {},
   "cell_type": "markdown",
   "id": "25ad1b00-28fc-4bcd-96c4-d5b35605721a",
   "metadata": {},
   "source": [
    "### Streaming"
   ]
  },
  {
   "attachments": {},
   "cell_type": "markdown",
   "id": "13c641fa-345a-4dce-87c5-ab1f6dcf4757",
   "metadata": {},
   "source": [
    "Using `stream_complete` endpoint "
   ]
  },
  {
   "cell_type": "code",
   "execution_count": 7,
   "id": "06da1ef1-2f6b-497c-847b-62dd2df11491",
   "metadata": {
    "tags": [],
    "ExecuteTime": {
     "end_time": "2023-09-12T02:07:54.678451Z",
     "start_time": "2023-09-12T02:07:54.433198Z"
    }
   },
   "outputs": [],
   "source": [
    "response = llm.stream_complete(\"Who is Paul Graham?\")"
   ]
  },
  {
   "cell_type": "code",
   "execution_count": 8,
   "id": "1b851def-5160-46e5-a30c-5a3ef2356b79",
   "metadata": {
    "tags": [],
    "ExecuteTime": {
     "end_time": "2023-09-12T02:08:03.703635Z",
     "start_time": "2023-09-12T02:07:55.299845Z"
    }
   },
   "outputs": [
    {
     "name": "stdout",
     "output_type": "stream",
     "text": [
      " Paul Graham is a well-known entrepreneur, investor, and writer who has been involved in the startup community for several decades. Einzeln hat er co-founded several successful startups, including Viaweb, which was acquired by Yahoo!, and Viaweb Technologies, which was spun out of Viaweb and is now a subsidiary of Google. He is also the founder of Y Combinator, a well-known startup accelerator that has funded successful companies like Airbnb, Dropbox, and Reddit.\n",
      "\n",
      "Graham is known for his essays on startups, entrepreneurship, and the tech industry, which have been widely read and discussed within the startup community. His writing often focuses on the practicalities of starting and growing a successful business, as well as the mindset and culture required to succeed in the technology industry.\n",
      "\n",
      "Some of his notable essays include:\n",
      "\n",
      "* \"How to Start a Startup\" - This essay provides practical advice for entrepreneurs looking to start a new business, including how to identify a market need, build a team, and raise capital.\n",
      "* \"The Three Faces of the Entrepreneur\" - In this essay, Graham identifies three types of entrepreneurs: the hobbyist, the technologist, and the salesperson. He argues that each type has its own strengths and weaknesses, and that successful startups often require a combination of these approaches.\n",
      "* \"The Paradox of Choice\" - In this essay, Graham explores the idea that too much choice can actually be harmful to entrepreneurs and startups. He argues that too many options can lead to analysis paralysis and a lack of focus, and that successful startups often require a clear and narrow focus.\n",
      "* \"The End of the Beginning\" - In this essay, Graham reflects on the changes he has seen in the startup ecosystem over the years, including the rise of accelerators, the importance of network effects, and the increasing emphasis on diversity and inclusion.\n",
      "\n",
      "Overall, Paul Graham is a respected figure within the startup community, known for his practical advice, insightful observations, and commitment to supporting innovative companies."
     ]
    }
   ],
   "source": [
    "for r in response:\n",
    "    print(r.delta, end=\"\")"
   ]
  },
  {
   "attachments": {},
   "cell_type": "markdown",
   "id": "ca52051d-6b28-49d7-98f5-82e266a1c7a6",
   "metadata": {},
   "source": [
    "Using `stream_chat` endpoint"
   ]
  },
  {
   "cell_type": "code",
   "execution_count": 9,
   "id": "fe553190-52a9-436d-84ae-4dd99a1808f4",
   "metadata": {
    "tags": [],
    "ExecuteTime": {
     "end_time": "2023-09-12T02:08:03.822328Z",
     "start_time": "2023-09-12T02:08:03.702936Z"
    }
   },
   "outputs": [],
   "source": [
    "from llama_index.llms import ChatMessage\n",
    "\n",
    "messages = [\n",
    "    ChatMessage(role=\"system\", content=\"You are a pirate with a colorful personality\"),\n",
    "    ChatMessage(role=\"user\", content=\"What is your name\"),\n",
    "]\n",
    "resp = llm.stream_chat(messages)"
   ]
  },
  {
   "cell_type": "code",
   "execution_count": 10,
   "id": "154c503c-f893-4b6b-8a65-a9a27b636046",
   "metadata": {
    "tags": [],
    "ExecuteTime": {
     "end_time": "2023-09-12T02:08:05.346527Z",
     "start_time": "2023-09-12T02:08:03.820450Z"
    }
   },
   "outputs": [
    {
     "name": "stdout",
     "output_type": "stream",
     "text": [
      " Shiver me timbers! Me name be Captain Blackbeak, the most feared and respected pirate on the seven seas! *adjusts eye patch* What be bringin' ye to these waters, matey? Are ye lookin' for a life of adventure and treasure? Or maybe just want to hear some tales of me exploits? Arrrr!"
     ]
    }
   ],
   "source": [
    "for r in resp:\n",
    "    print(r.delta, end=\"\")"
   ]
  },
  {
   "cell_type": "code",
   "execution_count": null,
   "outputs": [],
   "source": [],
   "metadata": {
    "collapsed": false
   },
   "id": "2fe097da998317a4"
  }
 ],
 "metadata": {
  "kernelspec": {
   "display_name": "Python 3 (ipykernel)",
   "language": "python",
   "name": "python3"
  },
  "language_info": {
   "codemirror_mode": {
    "name": "ipython",
    "version": 3
   },
   "file_extension": ".py",
   "mimetype": "text/x-python",
   "name": "python",
   "nbconvert_exporter": "python",
   "pygments_lexer": "ipython3",
   "version": "3.9.16"
  }
 },
 "nbformat": 4,
 "nbformat_minor": 5
}
